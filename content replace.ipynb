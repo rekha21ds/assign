{
 "cells": [
  {
   "cell_type": "code",
   "execution_count": 18,
   "id": "41f2e44e",
   "metadata": {},
   "outputs": [],
   "source": [
    "fin = open('example.txt', \"rt\")\n",
    "data = fin.read()\n",
    "data = data.replace('Placement', 'screening')\n",
    "fin.close()\n",
    "fin = open('example.txt', \"wt\")\n",
    "fin.write(data)\n",
    "fin.close()"
   ]
  },
  {
   "cell_type": "code",
   "execution_count": null,
   "id": "dbd1f49c",
   "metadata": {},
   "outputs": [],
   "source": []
  },
  {
   "cell_type": "code",
   "execution_count": 19,
   "id": "5c0e70d2",
   "metadata": {},
   "outputs": [
    {
     "name": "stdout",
     "output_type": "stream",
     "text": [
      "<_io.TextIOWrapper name='example.txt' mode='wt' encoding='cp1252'>\n"
     ]
    }
   ],
   "source": [
    "print(fin)"
   ]
  },
  {
   "cell_type": "code",
   "execution_count": null,
   "id": "c6e25f37",
   "metadata": {},
   "outputs": [],
   "source": []
  }
 ],
 "metadata": {
  "kernelspec": {
   "display_name": "Python 3",
   "language": "python",
   "name": "python3"
  },
  "language_info": {
   "codemirror_mode": {
    "name": "ipython",
    "version": 3
   },
   "file_extension": ".py",
   "mimetype": "text/x-python",
   "name": "python",
   "nbconvert_exporter": "python",
   "pygments_lexer": "ipython3",
   "version": "3.8.8"
  }
 },
 "nbformat": 4,
 "nbformat_minor": 5
}
